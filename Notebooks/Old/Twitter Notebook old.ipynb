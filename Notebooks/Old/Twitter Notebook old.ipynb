{
 "cells": [
  {
   "cell_type": "code",
   "execution_count": 3,
   "metadata": {},
   "outputs": [
    {
     "name": "stderr",
     "output_type": "stream",
     "text": [
      "/usr/local/lib/python3.5/dist-packages/sklearn/utils/deprecation.py:144: FutureWarning: The sklearn.feature_extraction.stop_words module is  deprecated in version 0.22 and will be removed in version 0.24. The corresponding classes / functions should instead be imported from sklearn.feature_extraction.text. Anything that cannot be imported from sklearn.feature_extraction.text is now part of the private API.\n",
      "  warnings.warn(message, FutureWarning)\n"
     ]
    }
   ],
   "source": [
    "#import nltk\n",
    "import nltk\n",
    "from nltk.corpus import stopwords\n",
    "from nltk.stem.porter import PorterStemmer\n",
    "from  nltk.stem import SnowballStemmer\n",
    "from nltk.stem import WordNetLemmatizer \n",
    "from nltk import classify\n",
    "from nltk.tokenize import TweetTokenizer\n",
    "from nltk import NaiveBayesClassifier\n",
    "\n",
    "\n",
    "#import regex\n",
    "import re\n",
    "\n",
    "#import BeautifulSoup\n",
    "from bs4 import BeautifulSoup\n",
    "\n",
    "# Scikit-learn\n",
    "from sklearn.feature_extraction.text import TfidfVectorizer\n",
    "from sklearn.model_selection import train_test_split\n",
    "from sklearn.metrics import confusion_matrix, classification_report, accuracy_score\n",
    "from sklearn.manifold import TSNE\n",
    "from sklearn.preprocessing import LabelEncoder\n",
    "from sklearn.feature_extraction import text \n",
    "from sklearn.decomposition import LatentDirichletAllocation\n",
    "from nltk.util import ngrams\n",
    "from sklearn.naive_bayes import MultinomialNB\n",
    "from sklearn.feature_extraction.text import CountVectorizer \n",
    "from sklearn.feature_extraction import text\n",
    "from sklearn.feature_extraction import stop_words\n",
    "\n",
    "# Word2vec\n",
    "import gensim\n",
    "\n",
    "#plotting\n",
    "import matplotlib.pyplot as plt\n",
    "\n",
    "# etc\n",
    "import string\n",
    "import pandas as pd\n",
    "import numpy as np\n",
    "import os\n",
    "from collections import Counter\n",
    "import logging\n",
    "import time\n",
    "import pickle\n",
    "import itertools\n"
   ]
  },
  {
   "cell_type": "code",
   "execution_count": 3,
   "metadata": {},
   "outputs": [],
   "source": [
    "Columns  = [\"sentiment\", \"user_id\", \"date\", \"query\", \"username\", \"text\"]\n",
    "Date = \"ISO-8859-1\""
   ]
  },
  {
   "cell_type": "code",
   "execution_count": 4,
   "metadata": {},
   "outputs": [],
   "source": [
    "tweets = pd.read_csv(\"Data/tweets.csv\", encoding = Date, names = Columns)"
   ]
  },
  {
   "cell_type": "code",
   "execution_count": 10,
   "metadata": {},
   "outputs": [],
   "source": [
    "#Filter by sentiment and text\n",
    "tweets =tweets[['sentiment', 'text']]"
   ]
  },
  {
   "cell_type": "code",
   "execution_count": 11,
   "metadata": {},
   "outputs": [],
   "source": [
    "tweets_df = tweets[['sentiment', 'text']]\n",
    "y = tweets_df['sentiment']\n"
   ]
  },
  {
   "cell_type": "code",
   "execution_count": 12,
   "metadata": {},
   "outputs": [],
   "source": [
    "#Map target value(y) to sentiment strings\n",
    "sentiment_mapping = {0: \"NEGATIVE\", 2: \"NEUTRAL\", 4: \"POSITIVE\"}\n",
    "def map_sentiment(input):\n",
    "    return sentiment_mapping[int(input)]"
   ]
  },
  {
   "cell_type": "code",
   "execution_count": 13,
   "metadata": {},
   "outputs": [],
   "source": [
    "#apply sentiment mapping to all of the dataset\n",
    "y_samp = tweets_df['sentiment'].apply(lambda x: map_sentiment(x))\n"
   ]
  },
  {
   "cell_type": "code",
   "execution_count": 14,
   "metadata": {},
   "outputs": [
    {
     "data": {
      "image/png": "[encoded data removed]",
      "text/plain": [
       "<Figure size 864x576 with 1 Axes>"
      ]
     },
     "metadata": {
      "needs_background": "light"
     },
     "output_type": "display_data"
    }
   ],
   "source": [
    "#plot distribution\n",
    "\n",
    "plt.figure(figsize=(12,8))\n",
    "plt.bar(Counter(y_samp).keys(), Counter(y).values())\n",
    "plt.ylabel('Count')\n",
    "plt.title('Sentiment Distribution')\n",
    "plt.show()"
   ]
  },
  {
   "cell_type": "code",
   "execution_count": 15,
   "metadata": {},
   "outputs": [],
   "source": [
    "tweets_clean= tweets_df.text.apply(lambda x: ' '.join(re.findall('[A-Za-z]+', x)))"
   ]
  },
  {
   "cell_type": "code",
   "execution_count": 17,
   "metadata": {},
   "outputs": [
    {
     "data": {
      "text/plain": [
       "True"
      ]
     },
     "execution_count": 17,
     "metadata": {},
     "output_type": "execute_result"
    }
   ],
   "source": [
    "#remove certain words that may affect sentiment and stopwords\n",
    "#list_to_remove = [\"quot\", \"go\", \"got\"]\n",
    "stop_words = stopwords.words(\"english\")\n",
    "#stop_words_final = [e for e in stop_words if e not in list_to_remove]\n",
    "'on' in stop_words"
   ]
  },
  {
   "cell_type": "code",
   "execution_count": 19,
   "metadata": {},
   "outputs": [],
   "source": [
    "#data cleaning\n",
    "punct = string.punctuation\n",
    "def remove_punctuation(text):\n",
    "    return text.translate(str.maketrans('', '', punct))\n"
   ]
  },
  {
   "cell_type": "code",
   "execution_count": 20,
   "metadata": {},
   "outputs": [],
   "source": [
    "tweets['text'] = tweets_clean.apply(lambda text: remove_punctuation(text))\n"
   ]
  },
  {
   "cell_type": "code",
   "execution_count": 32,
   "metadata": {},
   "outputs": [],
   "source": [
    "stemmer = PorterStemmer()\n",
    "more_stop_words =  ('go', 'got', 'quot', 'amp', 'nan')\n",
    "stop_words = text.ENGLISH_STOP_WORDS.union(more_stop_words)\n",
    "def clean(text, stem=True):\n",
    "    #removed links and chars\n",
    "    remove = \"@\\S+|https?:\\S+|http?:\\S|[^A-Za-z0-9]+\"\n",
    "    text = re.sub('https?://\\S+|www\\.\\S+', '', text)\n",
    "    text = re.sub(remove, ' ', str(text).lower()).strip()\n",
    "    tokens = []\n",
    "    for token in text.split(): \n",
    "        if token not in stop_words:\n",
    "            if stem:\n",
    "                tokens.append(stemmer.stem(token))\n",
    "        \n",
    "            else:\n",
    "                tokens.append(token)\n",
    "    return \" \".join(tokens)\n",
    "\n"
   ]
  },
  {
   "cell_type": "code",
   "execution_count": 33,
   "metadata": {},
   "outputs": [],
   "source": [
    "tweets_clean = tweets.text.apply(lambda x: clean(x))"
   ]
  },
  {
   "cell_type": "code",
   "execution_count": null,
   "metadata": {},
   "outputs": [],
   "source": [
    "lem = nltk.WordNetLemmatizer()\n",
    "def lem_clean(data):\n",
    "    text = [lem.lemmatize(word) for word in data]\n",
    "    return data\n",
    "\n",
    "tweets_cleaned = tweets_clean.apply(lambda x: lem_clean(x))"
   ]
  },
  {
   "cell_type": "code",
   "execution_count": 34,
   "metadata": {},
   "outputs": [
    {
     "data": {
      "text/plain": [
       "[('s', 192873),\n",
       " ('t', 185904),\n",
       " ('m', 140837),\n",
       " ('just', 127168),\n",
       " ('day', 109411),\n",
       " ('good', 92597),\n",
       " ('work', 87890),\n",
       " ('like', 83850),\n",
       " ('love', 83073),\n",
       " ('http', 71650)]"
      ]
     },
     "execution_count": 34,
     "metadata": {},
     "output_type": "execute_result"
    }
   ],
   "source": [
    "from collections import Counter\n",
    "cnt = Counter()\n",
    "for text in tweets_clean.values:\n",
    "    for word in text.split():\n",
    "        cnt[word] += 1\n",
    "        \n",
    "cnt.most_common(10)\n",
    "\n",
    "#could be bot tweets - remove quote, go get, not no"
   ]
  },
  {
   "cell_type": "code",
   "execution_count": 70,
   "metadata": {},
   "outputs": [],
   "source": [
    "tweets_concat = pd.concat([tweets_cleaned, y], axis=1)"
   ]
  },
  {
   "cell_type": "code",
   "execution_count": null,
   "metadata": {},
   "outputs": [],
   "source": [
    "samp = tweets_df.sample(n=100000,replace=False)"
   ]
  },
  {
   "cell_type": "code",
   "execution_count": 71,
   "metadata": {},
   "outputs": [
    {
     "ename": "KeyError",
     "evalue": "'sentiment'",
     "output_type": "error",
     "traceback": [
      "\u001b[0;31m\u001b[0m",
      "\u001b[0;31mKeyError\u001b[0mTraceback (most recent call last)",
      "\u001b[0;32m<ipython-input-71-e0d06cb368c8>\u001b[0m in \u001b[0;36m<module>\u001b[0;34m\u001b[0m\n\u001b[1;32m      2\u001b[0m \u001b[0;34m\u001b[0m\u001b[0m\n\u001b[1;32m      3\u001b[0m \u001b[0mplt\u001b[0m\u001b[0;34m.\u001b[0m\u001b[0mfigure\u001b[0m\u001b[0;34m(\u001b[0m\u001b[0mfigsize\u001b[0m \u001b[0;34m=\u001b[0m \u001b[0;34m(\u001b[0m\u001b[0;36m20\u001b[0m\u001b[0;34m,\u001b[0m\u001b[0;36m20\u001b[0m\u001b[0;34m)\u001b[0m\u001b[0;34m)\u001b[0m\u001b[0;34m\u001b[0m\u001b[0m\n\u001b[0;32m----> 4\u001b[0;31m \u001b[0mwc\u001b[0m \u001b[0;34m=\u001b[0m \u001b[0mWordCloud\u001b[0m\u001b[0;34m(\u001b[0m\u001b[0mmax_words\u001b[0m \u001b[0;34m=\u001b[0m \u001b[0;36m2000\u001b[0m \u001b[0;34m,\u001b[0m \u001b[0mwidth\u001b[0m \u001b[0;34m=\u001b[0m \u001b[0;36m1600\u001b[0m \u001b[0;34m,\u001b[0m \u001b[0mheight\u001b[0m \u001b[0;34m=\u001b[0m \u001b[0;36m800\u001b[0m\u001b[0;34m)\u001b[0m\u001b[0;34m.\u001b[0m\u001b[0mgenerate\u001b[0m\u001b[0;34m(\u001b[0m\u001b[0;34m\" \"\u001b[0m\u001b[0;34m.\u001b[0m\u001b[0mjoin\u001b[0m\u001b[0;34m(\u001b[0m\u001b[0mtweets_cleaned\u001b[0m\u001b[0;34m[\u001b[0m\u001b[0mtweets_cleaned\u001b[0m\u001b[0;34m[\u001b[0m\u001b[0;34m'sentiment'\u001b[0m\u001b[0;34m]\u001b[0m \u001b[0;34m==\u001b[0m \u001b[0;34m'POSITIVE'\u001b[0m\u001b[0;34m]\u001b[0m\u001b[0;34m.\u001b[0m\u001b[0mtext\u001b[0m\u001b[0;34m)\u001b[0m\u001b[0;34m)\u001b[0m\u001b[0;34m\u001b[0m\u001b[0m\n\u001b[0m\u001b[1;32m      5\u001b[0m \u001b[0mplt\u001b[0m\u001b[0;34m.\u001b[0m\u001b[0mimshow\u001b[0m\u001b[0;34m(\u001b[0m\u001b[0mwc\u001b[0m \u001b[0;34m,\u001b[0m \u001b[0minterpolation\u001b[0m \u001b[0;34m=\u001b[0m \u001b[0;34m'bilinear'\u001b[0m\u001b[0;34m)\u001b[0m\u001b[0;34m\u001b[0m\u001b[0m\n",
      "\u001b[0;32m/usr/local/lib/python3.5/dist-packages/pandas/core/series.py\u001b[0m in \u001b[0;36m__getitem__\u001b[0;34m(self, key)\u001b[0m\n\u001b[1;32m    866\u001b[0m         \u001b[0mkey\u001b[0m \u001b[0;34m=\u001b[0m \u001b[0mcom\u001b[0m\u001b[0;34m.\u001b[0m\u001b[0mapply_if_callable\u001b[0m\u001b[0;34m(\u001b[0m\u001b[0mkey\u001b[0m\u001b[0;34m,\u001b[0m \u001b[0mself\u001b[0m\u001b[0;34m)\u001b[0m\u001b[0;34m\u001b[0m\u001b[0m\n\u001b[1;32m    867\u001b[0m         \u001b[0;32mtry\u001b[0m\u001b[0;34m:\u001b[0m\u001b[0;34m\u001b[0m\u001b[0m\n\u001b[0;32m--> 868\u001b[0;31m             \u001b[0mresult\u001b[0m \u001b[0;34m=\u001b[0m \u001b[0mself\u001b[0m\u001b[0;34m.\u001b[0m\u001b[0mindex\u001b[0m\u001b[0;34m.\u001b[0m\u001b[0mget_value\u001b[0m\u001b[0;34m(\u001b[0m\u001b[0mself\u001b[0m\u001b[0;34m,\u001b[0m \u001b[0mkey\u001b[0m\u001b[0;34m)\u001b[0m\u001b[0;34m\u001b[0m\u001b[0m\n\u001b[0m\u001b[1;32m    869\u001b[0m \u001b[0;34m\u001b[0m\u001b[0m\n\u001b[1;32m    870\u001b[0m             \u001b[0;32mif\u001b[0m \u001b[0;32mnot\u001b[0m \u001b[0mis_scalar\u001b[0m\u001b[0;34m(\u001b[0m\u001b[0mresult\u001b[0m\u001b[0;34m)\u001b[0m\u001b[0;34m:\u001b[0m\u001b[0;34m\u001b[0m\u001b[0m\n",
      "\u001b[0;32m/usr/local/lib/python3.5/dist-packages/pandas/core/indexes/base.py\u001b[0m in \u001b[0;36mget_value\u001b[0;34m(self, series, key)\u001b[0m\n\u001b[1;32m   4373\u001b[0m         \u001b[0;32mtry\u001b[0m\u001b[0;34m:\u001b[0m\u001b[0;34m\u001b[0m\u001b[0m\n\u001b[1;32m   4374\u001b[0m             return self._engine.get_value(s, k,\n\u001b[0;32m-> 4375\u001b[0;31m                                           tz=getattr(series.dtype, 'tz', None))\n\u001b[0m\u001b[1;32m   4376\u001b[0m         \u001b[0;32mexcept\u001b[0m \u001b[0mKeyError\u001b[0m \u001b[0;32mas\u001b[0m \u001b[0me1\u001b[0m\u001b[0;34m:\u001b[0m\u001b[0;34m\u001b[0m\u001b[0m\n\u001b[1;32m   4377\u001b[0m             \u001b[0;32mif\u001b[0m \u001b[0mlen\u001b[0m\u001b[0;34m(\u001b[0m\u001b[0mself\u001b[0m\u001b[0;34m)\u001b[0m \u001b[0;34m>\u001b[0m \u001b[0;36m0\u001b[0m \u001b[0;32mand\u001b[0m \u001b[0;34m(\u001b[0m\u001b[0mself\u001b[0m\u001b[0;34m.\u001b[0m\u001b[0mholds_integer\u001b[0m\u001b[0;34m(\u001b[0m\u001b[0;34m)\u001b[0m \u001b[0;32mor\u001b[0m \u001b[0mself\u001b[0m\u001b[0;34m.\u001b[0m\u001b[0mis_boolean\u001b[0m\u001b[0;34m(\u001b[0m\u001b[0;34m)\u001b[0m\u001b[0;34m)\u001b[0m\u001b[0;34m:\u001b[0m\u001b[0;34m\u001b[0m\u001b[0m\n",
      "\u001b[0;32mpandas/_libs/index.pyx\u001b[0m in \u001b[0;36mpandas._libs.index.IndexEngine.get_value\u001b[0;34m()\u001b[0m\n",
      "\u001b[0;32mpandas/_libs/index.pyx\u001b[0m in \u001b[0;36mpandas._libs.index.IndexEngine.get_value\u001b[0;34m()\u001b[0m\n",
      "\u001b[0;32mpandas/_libs/index.pyx\u001b[0m in \u001b[0;36mpandas._libs.index.IndexEngine.get_loc\u001b[0;34m()\u001b[0m\n",
      "\u001b[0;32mpandas/_libs/index_class_helper.pxi\u001b[0m in \u001b[0;36mpandas._libs.index.Int64Engine._check_type\u001b[0;34m()\u001b[0m\n",
      "\u001b[0;31mKeyError\u001b[0m: 'sentiment'"
     ]
    },
    {
     "data": {
      "text/plain": [
       "<Figure size 1440x1440 with 0 Axes>"
      ]
     },
     "metadata": {},
     "output_type": "display_data"
    }
   ],
   "source": [
    "from wordcloud import WordCloud\n",
    "\n",
    "plt.figure(figsize = (20,20)) \n",
    "wc = WordCloud(max_words = 2000 , width = 1600 , height = 800).generate(\" \".join(tweets_cleaned[tweets_cleaned['sentiment'] == 'POSITIVE'].text))\n",
    "plt.imshow(wc , interpolation = 'bilinear')"
   ]
  },
  {
   "cell_type": "code",
   "execution_count": null,
   "metadata": {},
   "outputs": [],
   "source": [
    "from wordcloud import WordCloud\n",
    "\n",
    "plt.figure(figsize = (20,20)) \n",
    "wc = WordCloud(max_words = 2000 , width = 1600 , height = 800).generate(\" \".join(tweets_cleaned[twit_samp['sentiment'] == 'NEGATIVE'].text))\n",
    "plt.imshow(wc , interpolation = 'bilinear')"
   ]
  },
  {
   "cell_type": "code",
   "execution_count": null,
   "metadata": {},
   "outputs": [],
   "source": [
    "vectorizer = CountVectorizer(stop_words=stop_words, max_df=0.85, min_df=1, max_features=5000, ngram_range=(1,3))\n",
    "X = vectorizer.fit_transform(twit_samp['text'])"
   ]
  },
  {
   "cell_type": "code",
   "execution_count": null,
   "metadata": {},
   "outputs": [],
   "source": [
    "features = vectorizer.get_feature_names()"
   ]
  },
  {
   "cell_type": "code",
   "execution_count": 125,
   "metadata": {},
   "outputs": [
    {
     "data": {
      "text/plain": [
       "5000"
      ]
     },
     "execution_count": 125,
     "metadata": {},
     "output_type": "execute_result"
    }
   ],
   "source": [
    "len(features)"
   ]
  },
  {
   "cell_type": "code",
   "execution_count": null,
   "metadata": {},
   "outputs": [],
   "source": [
    "lda = LatentDirichletAllocation(n_components=10, random_state=42, learning_method='online', n_jobs=-1)\n",
    "lda.fit(X)\n",
    "top_components = lda.components_.argsort()[:,-1:-11:-1]\n",
    "\n",
    "for i, v in enumerate(top_components):\n",
    "    print(i, [features[i] for i in v])"
   ]
  },
  {
   "cell_type": "code",
   "execution_count": 118,
   "metadata": {},
   "outputs": [
    {
     "data": {
      "text/html": [
       "<div>\n",
       "<style scoped>\n",
       "    .dataframe tbody tr th:only-of-type {\n",
       "        vertical-align: middle;\n",
       "    }\n",
       "\n",
       "    .dataframe tbody tr th {\n",
       "        vertical-align: top;\n",
       "    }\n",
       "\n",
       "    .dataframe thead th {\n",
       "        text-align: right;\n",
       "    }\n",
       "</style>\n",
       "<table border=\"1\" class=\"dataframe\">\n",
       "  <thead>\n",
       "    <tr style=\"text-align: right;\">\n",
       "      <th></th>\n",
       "      <th>sentiment</th>\n",
       "      <th>text</th>\n",
       "    </tr>\n",
       "  </thead>\n",
       "  <tbody>\n",
       "    <tr>\n",
       "      <th>557758</th>\n",
       "      <td>0</td>\n",
       "      <td>@NoreeN_Ong hungry too</td>\n",
       "    </tr>\n",
       "    <tr>\n",
       "      <th>270987</th>\n",
       "      <td>0</td>\n",
       "      <td>Ugh, food poisoning - nature's way of telling ...</td>\n",
       "    </tr>\n",
       "    <tr>\n",
       "      <th>399185</th>\n",
       "      <td>0</td>\n",
       "      <td>@patzilla83 ...and i would have X's for eyes</td>\n",
       "    </tr>\n",
       "    <tr>\n",
       "      <th>1142720</th>\n",
       "      <td>4</td>\n",
       "      <td>@Alyssa_Milano Hope you had a great dinner...h...</td>\n",
       "    </tr>\n",
       "    <tr>\n",
       "      <th>1133283</th>\n",
       "      <td>4</td>\n",
       "      <td>@mandelion2  hey love, add me!</td>\n",
       "    </tr>\n",
       "    <tr>\n",
       "      <th>315737</th>\n",
       "      <td>0</td>\n",
       "      <td>Was just listening to Alfamega - Uh Huh, great...</td>\n",
       "    </tr>\n",
       "    <tr>\n",
       "      <th>1280029</th>\n",
       "      <td>4</td>\n",
       "      <td>my nagging paid off, I am now a VIW!!!</td>\n",
       "    </tr>\n",
       "    <tr>\n",
       "      <th>433615</th>\n",
       "      <td>0</td>\n",
       "      <td>i have a brick of a phone that has a black and...</td>\n",
       "    </tr>\n",
       "    <tr>\n",
       "      <th>1144503</th>\n",
       "      <td>4</td>\n",
       "      <td>@MissKeriBaby aww wish i could have caught tha...</td>\n",
       "    </tr>\n",
       "    <tr>\n",
       "      <th>1539779</th>\n",
       "      <td>4</td>\n",
       "      <td>happiness is...music monday   enjoy! - gratefu...</td>\n",
       "    </tr>\n",
       "    <tr>\n",
       "      <th>775242</th>\n",
       "      <td>0</td>\n",
       "      <td>it's 5.30am and i have been woken up by a long...</td>\n",
       "    </tr>\n",
       "    <tr>\n",
       "      <th>248791</th>\n",
       "      <td>0</td>\n",
       "      <td>Im so freakin tired rite now</td>\n",
       "    </tr>\n",
       "    <tr>\n",
       "      <th>725158</th>\n",
       "      <td>0</td>\n",
       "      <td>I hate pronouncing patients dead on scene. Eve...</td>\n",
       "    </tr>\n",
       "    <tr>\n",
       "      <th>1084360</th>\n",
       "      <td>4</td>\n",
       "      <td>think we're hopping on the 19, 47, or 49, whic...</td>\n",
       "    </tr>\n",
       "    <tr>\n",
       "      <th>1523851</th>\n",
       "      <td>4</td>\n",
       "      <td>got a 2:2! i'm happy with that</td>\n",
       "    </tr>\n",
       "    <tr>\n",
       "      <th>1130490</th>\n",
       "      <td>4</td>\n",
       "      <td>@robomalo no kidding! So bummed. Hopefully I'l...</td>\n",
       "    </tr>\n",
       "    <tr>\n",
       "      <th>891262</th>\n",
       "      <td>4</td>\n",
       "      <td>so my voice recital wasnt half bad! my first s...</td>\n",
       "    </tr>\n",
       "    <tr>\n",
       "      <th>18308</th>\n",
       "      <td>0</td>\n",
       "      <td>@lainybug  thanks for the reminder</td>\n",
       "    </tr>\n",
       "    <tr>\n",
       "      <th>241465</th>\n",
       "      <td>0</td>\n",
       "      <td>something seems to be wrong w direct messages....</td>\n",
       "    </tr>\n",
       "    <tr>\n",
       "      <th>1045100</th>\n",
       "      <td>4</td>\n",
       "      <td>says yep. agree.  http://plurk.com/p/wy2m1</td>\n",
       "    </tr>\n",
       "    <tr>\n",
       "      <th>400230</th>\n",
       "      <td>0</td>\n",
       "      <td>aww that sucks...don't know what's on for ton...</td>\n",
       "    </tr>\n",
       "    <tr>\n",
       "      <th>432219</th>\n",
       "      <td>0</td>\n",
       "      <td>http://bit.ly/PaBnD  video won't buffer on the...</td>\n",
       "    </tr>\n",
       "    <tr>\n",
       "      <th>811150</th>\n",
       "      <td>4</td>\n",
       "      <td>Easter is 5 days away!</td>\n",
       "    </tr>\n",
       "    <tr>\n",
       "      <th>464946</th>\n",
       "      <td>0</td>\n",
       "      <td>NO!!!!!! EPIC FAIL! SERIOSULY I could cry righ...</td>\n",
       "    </tr>\n",
       "    <tr>\n",
       "      <th>577511</th>\n",
       "      <td>0</td>\n",
       "      <td>i'm angry becuase i cant buy any songs on itun...</td>\n",
       "    </tr>\n",
       "    <tr>\n",
       "      <th>379465</th>\n",
       "      <td>0</td>\n",
       "      <td>@MishNohouse girl i can't believe ur in durbs ...</td>\n",
       "    </tr>\n",
       "    <tr>\n",
       "      <th>1160689</th>\n",
       "      <td>4</td>\n",
       "      <td>@JaylaStarr Ive been reading your tweets latel...</td>\n",
       "    </tr>\n",
       "    <tr>\n",
       "      <th>374198</th>\n",
       "      <td>0</td>\n",
       "      <td>@xoMusicLoverxo oh crap. I didn't notice that....</td>\n",
       "    </tr>\n",
       "    <tr>\n",
       "      <th>291326</th>\n",
       "      <td>0</td>\n",
       "      <td>@rjucks @cwardell i think he's lonely because ...</td>\n",
       "    </tr>\n",
       "    <tr>\n",
       "      <th>1450420</th>\n",
       "      <td>4</td>\n",
       "      <td>Is it a win if I made the guy walk away after ...</td>\n",
       "    </tr>\n",
       "    <tr>\n",
       "      <th>...</th>\n",
       "      <td>...</td>\n",
       "      <td>...</td>\n",
       "    </tr>\n",
       "    <tr>\n",
       "      <th>20096</th>\n",
       "      <td>0</td>\n",
       "      <td>All out of fish oil</td>\n",
       "    </tr>\n",
       "    <tr>\n",
       "      <th>685808</th>\n",
       "      <td>0</td>\n",
       "      <td>home .. and my finngers are grandma.. from scr...</td>\n",
       "    </tr>\n",
       "    <tr>\n",
       "      <th>284286</th>\n",
       "      <td>0</td>\n",
       "      <td>one of my brother-in-laws was shot.  rip. My p...</td>\n",
       "    </tr>\n",
       "    <tr>\n",
       "      <th>1035684</th>\n",
       "      <td>4</td>\n",
       "      <td>@abstractg We US of Americans appreciate your ...</td>\n",
       "    </tr>\n",
       "    <tr>\n",
       "      <th>766206</th>\n",
       "      <td>0</td>\n",
       "      <td>seriously.......can NOT concentrate....i'm goi...</td>\n",
       "    </tr>\n",
       "    <tr>\n",
       "      <th>610880</th>\n",
       "      <td>0</td>\n",
       "      <td>@swaggedoutchica yeah I do ! I have nothing to...</td>\n",
       "    </tr>\n",
       "    <tr>\n",
       "      <th>549498</th>\n",
       "      <td>0</td>\n",
       "      <td>Cough cough.... so sick</td>\n",
       "    </tr>\n",
       "    <tr>\n",
       "      <th>880649</th>\n",
       "      <td>4</td>\n",
       "      <td>@vickycornell definitely cooking  haha paninis...</td>\n",
       "    </tr>\n",
       "    <tr>\n",
       "      <th>771598</th>\n",
       "      <td>0</td>\n",
       "      <td>I'm kinda amazed that Jon and Kate are keeping...</td>\n",
       "    </tr>\n",
       "    <tr>\n",
       "      <th>535637</th>\n",
       "      <td>0</td>\n",
       "      <td>wow major spammer won the #trackle iphone today</td>\n",
       "    </tr>\n",
       "    <tr>\n",
       "      <th>757635</th>\n",
       "      <td>0</td>\n",
       "      <td>@simplynutty Oh, maaaan! So I'm not first?!?</td>\n",
       "    </tr>\n",
       "    <tr>\n",
       "      <th>15677</th>\n",
       "      <td>0</td>\n",
       "      <td>@mikasounds I was outside for maybe an hour an...</td>\n",
       "    </tr>\n",
       "    <tr>\n",
       "      <th>1263748</th>\n",
       "      <td>4</td>\n",
       "      <td>the hills is so interesting...omg  but ill mis...</td>\n",
       "    </tr>\n",
       "    <tr>\n",
       "      <th>1235867</th>\n",
       "      <td>4</td>\n",
       "      <td>@tommcfly EGG records is funny. But I think su...</td>\n",
       "    </tr>\n",
       "    <tr>\n",
       "      <th>529072</th>\n",
       "      <td>0</td>\n",
       "      <td>Man, Jerry Springer was depressing today. Two ...</td>\n",
       "    </tr>\n",
       "    <tr>\n",
       "      <th>691327</th>\n",
       "      <td>0</td>\n",
       "      <td>@TommyMac1 What is wrong with people? I'm so s...</td>\n",
       "    </tr>\n",
       "    <tr>\n",
       "      <th>1087992</th>\n",
       "      <td>4</td>\n",
       "      <td>Is happily exhausted from the Reid show.   Tha...</td>\n",
       "    </tr>\n",
       "    <tr>\n",
       "      <th>1423998</th>\n",
       "      <td>4</td>\n",
       "      <td>@elemare Mystery solved. Wife bought ice cream...</td>\n",
       "    </tr>\n",
       "    <tr>\n",
       "      <th>202199</th>\n",
       "      <td>0</td>\n",
       "      <td>I did not get picked to compete.  &amp;quot;My a g...</td>\n",
       "    </tr>\n",
       "    <tr>\n",
       "      <th>125838</th>\n",
       "      <td>0</td>\n",
       "      <td>first day at WGME! 4 am came early this morning</td>\n",
       "    </tr>\n",
       "    <tr>\n",
       "      <th>500520</th>\n",
       "      <td>0</td>\n",
       "      <td>@TrespassersWill I'll probably drop by late th...</td>\n",
       "    </tr>\n",
       "    <tr>\n",
       "      <th>312233</th>\n",
       "      <td>0</td>\n",
       "      <td>@DoonaDoo not 'gone' no  ...i live in hope tho...</td>\n",
       "    </tr>\n",
       "    <tr>\n",
       "      <th>1538571</th>\n",
       "      <td>4</td>\n",
       "      <td>@Libi101183 Omg YESSSSS!  am id be buzzing haha ?</td>\n",
       "    </tr>\n",
       "    <tr>\n",
       "      <th>193011</th>\n",
       "      <td>0</td>\n",
       "      <td>Why is this room so bright in the morning</td>\n",
       "    </tr>\n",
       "    <tr>\n",
       "      <th>1027437</th>\n",
       "      <td>4</td>\n",
       "      <td>@vanessalambert1 Don't worry I tweet enough fo...</td>\n",
       "    </tr>\n",
       "    <tr>\n",
       "      <th>479383</th>\n",
       "      <td>0</td>\n",
       "      <td>Feels like poo.  i think my brain is gonna com...</td>\n",
       "    </tr>\n",
       "    <tr>\n",
       "      <th>402110</th>\n",
       "      <td>0</td>\n",
       "      <td>Finishing the #abdntweetup with Terminator Sal...</td>\n",
       "    </tr>\n",
       "    <tr>\n",
       "      <th>972663</th>\n",
       "      <td>4</td>\n",
       "      <td>its my best friends birthdayyy!!!!!</td>\n",
       "    </tr>\n",
       "    <tr>\n",
       "      <th>1269885</th>\n",
       "      <td>4</td>\n",
       "      <td>@CityGirl912 haha...ill NEVER change my av pic...</td>\n",
       "    </tr>\n",
       "    <tr>\n",
       "      <th>1419178</th>\n",
       "      <td>4</td>\n",
       "      <td>now that I've said my peace and given my hugs ...</td>\n",
       "    </tr>\n",
       "  </tbody>\n",
       "</table>\n",
       "<p>1000 rows × 2 columns</p>\n",
       "</div>"
      ],
      "text/plain": [
       "         sentiment                                               text\n",
       "557758           0                            @NoreeN_Ong hungry too \n",
       "270987           0  Ugh, food poisoning - nature's way of telling ...\n",
       "399185           0      @patzilla83 ...and i would have X's for eyes \n",
       "1142720          4  @Alyssa_Milano Hope you had a great dinner...h...\n",
       "1133283          4                    @mandelion2  hey love, add me! \n",
       "315737           0  Was just listening to Alfamega - Uh Huh, great...\n",
       "1280029          4            my nagging paid off, I am now a VIW!!! \n",
       "433615           0  i have a brick of a phone that has a black and...\n",
       "1144503          4  @MissKeriBaby aww wish i could have caught tha...\n",
       "1539779          4  happiness is...music monday   enjoy! - gratefu...\n",
       "775242           0  it's 5.30am and i have been woken up by a long...\n",
       "248791           0                      Im so freakin tired rite now \n",
       "725158           0  I hate pronouncing patients dead on scene. Eve...\n",
       "1084360          4  think we're hopping on the 19, 47, or 49, whic...\n",
       "1523851          4                    got a 2:2! i'm happy with that \n",
       "1130490          4  @robomalo no kidding! So bummed. Hopefully I'l...\n",
       "891262           4  so my voice recital wasnt half bad! my first s...\n",
       "18308            0                 @lainybug  thanks for the reminder\n",
       "241465           0  something seems to be wrong w direct messages....\n",
       "1045100          4         says yep. agree.  http://plurk.com/p/wy2m1\n",
       "400230           0   aww that sucks...don't know what's on for ton...\n",
       "432219           0  http://bit.ly/PaBnD  video won't buffer on the...\n",
       "811150           4                           Easter is 5 days away!  \n",
       "464946           0  NO!!!!!! EPIC FAIL! SERIOSULY I could cry righ...\n",
       "577511           0  i'm angry becuase i cant buy any songs on itun...\n",
       "379465           0  @MishNohouse girl i can't believe ur in durbs ...\n",
       "1160689          4  @JaylaStarr Ive been reading your tweets latel...\n",
       "374198           0  @xoMusicLoverxo oh crap. I didn't notice that....\n",
       "291326           0  @rjucks @cwardell i think he's lonely because ...\n",
       "1450420          4  Is it a win if I made the guy walk away after ...\n",
       "...            ...                                                ...\n",
       "20096            0                               All out of fish oil \n",
       "685808           0  home .. and my finngers are grandma.. from scr...\n",
       "284286           0  one of my brother-in-laws was shot.  rip. My p...\n",
       "1035684          4  @abstractg We US of Americans appreciate your ...\n",
       "766206           0  seriously.......can NOT concentrate....i'm goi...\n",
       "610880           0  @swaggedoutchica yeah I do ! I have nothing to...\n",
       "549498           0                           Cough cough.... so sick \n",
       "880649           4  @vickycornell definitely cooking  haha paninis...\n",
       "771598           0  I'm kinda amazed that Jon and Kate are keeping...\n",
       "535637           0   wow major spammer won the #trackle iphone today \n",
       "757635           0      @simplynutty Oh, maaaan! So I'm not first?!? \n",
       "15677            0  @mikasounds I was outside for maybe an hour an...\n",
       "1263748          4  the hills is so interesting...omg  but ill mis...\n",
       "1235867          4  @tommcfly EGG records is funny. But I think su...\n",
       "529072           0  Man, Jerry Springer was depressing today. Two ...\n",
       "691327           0  @TommyMac1 What is wrong with people? I'm so s...\n",
       "1087992          4  Is happily exhausted from the Reid show.   Tha...\n",
       "1423998          4  @elemare Mystery solved. Wife bought ice cream...\n",
       "202199           0  I did not get picked to compete.  &quot;My a g...\n",
       "125838           0   first day at WGME! 4 am came early this morning \n",
       "500520           0  @TrespassersWill I'll probably drop by late th...\n",
       "312233           0  @DoonaDoo not 'gone' no  ...i live in hope tho...\n",
       "1538571          4  @Libi101183 Omg YESSSSS!  am id be buzzing haha ?\n",
       "193011           0         Why is this room so bright in the morning \n",
       "1027437          4  @vanessalambert1 Don't worry I tweet enough fo...\n",
       "479383           0  Feels like poo.  i think my brain is gonna com...\n",
       "402110           0  Finishing the #abdntweetup with Terminator Sal...\n",
       "972663           4               its my best friends birthdayyy!!!!! \n",
       "1269885          4  @CityGirl912 haha...ill NEVER change my av pic...\n",
       "1419178          4  now that I've said my peace and given my hugs ...\n",
       "\n",
       "[1000 rows x 2 columns]"
      ]
     },
     "execution_count": 118,
     "metadata": {},
     "output_type": "execute_result"
    }
   ],
   "source": [
    "samp = tweets_df.sample(n=1000,replace=False)\n",
    "samp"
   ]
  },
  {
   "cell_type": "code",
   "execution_count": 119,
   "metadata": {},
   "outputs": [
    {
     "data": {
      "text/plain": [
       "0.68"
      ]
     },
     "execution_count": 119,
     "metadata": {},
     "output_type": "execute_result"
    }
   ],
   "source": [
    "X = CountVectorizer().fit_transform(samp['text'])\n",
    "y = samp['sentiment']\n",
    "\n",
    "X_train, X_test, y_train, y_test = train_test_split(X, y, test_size=0.20, random_state=42)\n",
    "\n",
    "multi_naive_bayes = MultinomialNB()\n",
    "multi_naive_bayes.fit(X_train, y_train)\n",
    "np.mean(multi_naive_bayes.predict(X_test) == y_test)"
   ]
  },
  {
   "cell_type": "code",
   "execution_count": 129,
   "metadata": {},
   "outputs": [
    {
     "ename": "AttributeError",
     "evalue": "'numpy.ndarray' object has no attribute 'lower'",
     "output_type": "error",
     "traceback": [
      "\u001b[0;31m\u001b[0m",
      "\u001b[0;31mAttributeError\u001b[0mTraceback (most recent call last)",
      "\u001b[0;32m<ipython-input-129-a69490cb4bcd>\u001b[0m in \u001b[0;36m<module>\u001b[0;34m\u001b[0m\n\u001b[1;32m      1\u001b[0m \u001b[0mtest\u001b[0m \u001b[0;34m=\u001b[0m \u001b[0mnp\u001b[0m\u001b[0;34m.\u001b[0m\u001b[0marray\u001b[0m\u001b[0;34m(\u001b[0m\u001b[0;34m[\u001b[0m\u001b[0;34m[\u001b[0m\u001b[0;34m'hello'\u001b[0m\u001b[0;34m,\u001b[0m \u001b[0;34m'y'\u001b[0m\u001b[0;34m]\u001b[0m\u001b[0;34m]\u001b[0m\u001b[0;34m)\u001b[0m\u001b[0;34m.\u001b[0m\u001b[0mreshape\u001b[0m\u001b[0;34m(\u001b[0m\u001b[0;34m-\u001b[0m\u001b[0;36m1\u001b[0m\u001b[0;34m,\u001b[0m\u001b[0;36m1\u001b[0m\u001b[0;34m)\u001b[0m\u001b[0;34m\u001b[0m\u001b[0m\n\u001b[1;32m      2\u001b[0m \u001b[0;34m\u001b[0m\u001b[0m\n\u001b[0;32m----> 3\u001b[0;31m \u001b[0mX\u001b[0m \u001b[0;34m=\u001b[0m\u001b[0mCountVectorizer\u001b[0m\u001b[0;34m(\u001b[0m\u001b[0;34m)\u001b[0m\u001b[0;34m.\u001b[0m\u001b[0mfit_transform\u001b[0m\u001b[0;34m(\u001b[0m\u001b[0mtest\u001b[0m\u001b[0;34m)\u001b[0m\u001b[0;34m\u001b[0m\u001b[0m\n\u001b[0m\u001b[1;32m      4\u001b[0m \u001b[0mmulti_naive_bayes\u001b[0m\u001b[0;34m.\u001b[0m\u001b[0mpredict\u001b[0m\u001b[0;34m(\u001b[0m\u001b[0mtest\u001b[0m\u001b[0;34m)\u001b[0m\u001b[0;34m\u001b[0m\u001b[0m\n",
      "\u001b[0;32m/usr/local/lib/python3.5/dist-packages/sklearn/feature_extraction/text.py\u001b[0m in \u001b[0;36mfit_transform\u001b[0;34m(self, raw_documents, y)\u001b[0m\n\u001b[1;32m   1218\u001b[0m \u001b[0;34m\u001b[0m\u001b[0m\n\u001b[1;32m   1219\u001b[0m         vocabulary, X = self._count_vocab(raw_documents,\n\u001b[0;32m-> 1220\u001b[0;31m                                           self.fixed_vocabulary_)\n\u001b[0m\u001b[1;32m   1221\u001b[0m \u001b[0;34m\u001b[0m\u001b[0m\n\u001b[1;32m   1222\u001b[0m         \u001b[0;32mif\u001b[0m \u001b[0mself\u001b[0m\u001b[0;34m.\u001b[0m\u001b[0mbinary\u001b[0m\u001b[0;34m:\u001b[0m\u001b[0;34m\u001b[0m\u001b[0m\n",
      "\u001b[0;32m/usr/local/lib/python3.5/dist-packages/sklearn/feature_extraction/text.py\u001b[0m in \u001b[0;36m_count_vocab\u001b[0;34m(self, raw_documents, fixed_vocab)\u001b[0m\n\u001b[1;32m   1129\u001b[0m         \u001b[0;32mfor\u001b[0m \u001b[0mdoc\u001b[0m \u001b[0;32min\u001b[0m \u001b[0mraw_documents\u001b[0m\u001b[0;34m:\u001b[0m\u001b[0;34m\u001b[0m\u001b[0m\n\u001b[1;32m   1130\u001b[0m             \u001b[0mfeature_counter\u001b[0m \u001b[0;34m=\u001b[0m \u001b[0;34m{\u001b[0m\u001b[0;34m}\u001b[0m\u001b[0;34m\u001b[0m\u001b[0m\n\u001b[0;32m-> 1131\u001b[0;31m             \u001b[0;32mfor\u001b[0m \u001b[0mfeature\u001b[0m \u001b[0;32min\u001b[0m \u001b[0manalyze\u001b[0m\u001b[0;34m(\u001b[0m\u001b[0mdoc\u001b[0m\u001b[0;34m)\u001b[0m\u001b[0;34m:\u001b[0m\u001b[0;34m\u001b[0m\u001b[0m\n\u001b[0m\u001b[1;32m   1132\u001b[0m                 \u001b[0;32mtry\u001b[0m\u001b[0;34m:\u001b[0m\u001b[0;34m\u001b[0m\u001b[0m\n\u001b[1;32m   1133\u001b[0m                     \u001b[0mfeature_idx\u001b[0m \u001b[0;34m=\u001b[0m \u001b[0mvocabulary\u001b[0m\u001b[0;34m[\u001b[0m\u001b[0mfeature\u001b[0m\u001b[0;34m]\u001b[0m\u001b[0;34m\u001b[0m\u001b[0m\n",
      "\u001b[0;32m/usr/local/lib/python3.5/dist-packages/sklearn/feature_extraction/text.py\u001b[0m in \u001b[0;36m_analyze\u001b[0;34m(doc, analyzer, tokenizer, ngrams, preprocessor, decoder, stop_words)\u001b[0m\n\u001b[1;32m    101\u001b[0m     \u001b[0;32melse\u001b[0m\u001b[0;34m:\u001b[0m\u001b[0;34m\u001b[0m\u001b[0m\n\u001b[1;32m    102\u001b[0m         \u001b[0;32mif\u001b[0m \u001b[0mpreprocessor\u001b[0m \u001b[0;32mis\u001b[0m \u001b[0;32mnot\u001b[0m \u001b[0;32mNone\u001b[0m\u001b[0;34m:\u001b[0m\u001b[0;34m\u001b[0m\u001b[0m\n\u001b[0;32m--> 103\u001b[0;31m             \u001b[0mdoc\u001b[0m \u001b[0;34m=\u001b[0m \u001b[0mpreprocessor\u001b[0m\u001b[0;34m(\u001b[0m\u001b[0mdoc\u001b[0m\u001b[0;34m)\u001b[0m\u001b[0;34m\u001b[0m\u001b[0m\n\u001b[0m\u001b[1;32m    104\u001b[0m         \u001b[0;32mif\u001b[0m \u001b[0mtokenizer\u001b[0m \u001b[0;32mis\u001b[0m \u001b[0;32mnot\u001b[0m \u001b[0;32mNone\u001b[0m\u001b[0;34m:\u001b[0m\u001b[0;34m\u001b[0m\u001b[0m\n\u001b[1;32m    105\u001b[0m             \u001b[0mdoc\u001b[0m \u001b[0;34m=\u001b[0m \u001b[0mtokenizer\u001b[0m\u001b[0;34m(\u001b[0m\u001b[0mdoc\u001b[0m\u001b[0;34m)\u001b[0m\u001b[0;34m\u001b[0m\u001b[0m\n",
      "\u001b[0;32m/usr/local/lib/python3.5/dist-packages/sklearn/feature_extraction/text.py\u001b[0m in \u001b[0;36m_preprocess\u001b[0;34m(doc, accent_function, lower)\u001b[0m\n\u001b[1;32m     66\u001b[0m     \"\"\"\n\u001b[1;32m     67\u001b[0m     \u001b[0;32mif\u001b[0m \u001b[0mlower\u001b[0m\u001b[0;34m:\u001b[0m\u001b[0;34m\u001b[0m\u001b[0m\n\u001b[0;32m---> 68\u001b[0;31m         \u001b[0mdoc\u001b[0m \u001b[0;34m=\u001b[0m \u001b[0mdoc\u001b[0m\u001b[0;34m.\u001b[0m\u001b[0mlower\u001b[0m\u001b[0;34m(\u001b[0m\u001b[0;34m)\u001b[0m\u001b[0;34m\u001b[0m\u001b[0m\n\u001b[0m\u001b[1;32m     69\u001b[0m     \u001b[0;32mif\u001b[0m \u001b[0maccent_function\u001b[0m \u001b[0;32mis\u001b[0m \u001b[0;32mnot\u001b[0m \u001b[0;32mNone\u001b[0m\u001b[0;34m:\u001b[0m\u001b[0;34m\u001b[0m\u001b[0m\n\u001b[1;32m     70\u001b[0m         \u001b[0mdoc\u001b[0m \u001b[0;34m=\u001b[0m \u001b[0maccent_function\u001b[0m\u001b[0;34m(\u001b[0m\u001b[0mdoc\u001b[0m\u001b[0;34m)\u001b[0m\u001b[0;34m\u001b[0m\u001b[0m\n",
      "\u001b[0;31mAttributeError\u001b[0m: 'numpy.ndarray' object has no attribute 'lower'"
     ]
    }
   ],
   "source": [
    "test = np.array(['hello', 'y']).reshape(-1,1)\n",
    "\n",
    "X =CountVectorizer().fit_transform(test)\n",
    "multi_naive_bayes.predict(test)"
   ]
  },
  {
   "cell_type": "code",
   "execution_count": null,
   "metadata": {},
   "outputs": [],
   "source": [
    "classifier = NaiveBayesClassifier.train(X_train)\n",
    "\n",
    "# Output the model accuracy on the train and test data\n",
    "print('Accuracy on train data:', classify.accuracy(classifier, X_train))\n",
    "print('Accuracy on test data:', classify.accuracy(classifier, X_test))\n",
    "\n",
    "# Output the words that provide the most information about the sentiment of a tweet.\n",
    "# These are words that are heavily present in one sentiment group and very rarely present in the other group.\n",
    "print(classifier.show_most_informative_features(20))\n"
   ]
  },
  {
   "cell_type": "code",
   "execution_count": 2,
   "metadata": {},
   "outputs": [],
   "source": [
    "from keras.preprocessing.text import Tokenizer, text_to_word_sequence"
   ]
  },
  {
   "cell_type": "code",
   "execution_count": null,
   "metadata": {},
   "outputs": [],
   "source": []
  },
  {
   "cell_type": "code",
   "execution_count": null,
   "metadata": {},
   "outputs": [],
   "source": []
  },
  {
   "cell_type": "code",
   "execution_count": null,
   "metadata": {},
   "outputs": [],
   "source": []
  }
 ],
 "metadata": {
  "kernelspec": {
   "display_name": "Python 3",
   "language": "python",
   "name": "python3"
  },
  "language_info": {
   "codemirror_mode": {
    "name": "ipython",
    "version": 3
   },
   "file_extension": ".py",
   "mimetype": "text/x-python",
   "name": "python",
   "nbconvert_exporter": "python",
   "pygments_lexer": "ipython3",
   "version": "3.5.2"
  }
 },
 "nbformat": 4,
 "nbformat_minor": 4
}
